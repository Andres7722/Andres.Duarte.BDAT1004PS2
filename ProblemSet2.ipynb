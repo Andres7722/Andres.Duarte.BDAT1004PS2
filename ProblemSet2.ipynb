{
 "cells": [
  {
   "cell_type": "markdown",
   "id": "6843f1c2-5f47-4331-8599-62e8ed42705f",
   "metadata": {},
   "source": [
    "# Problem Set 2"
   ]
  },
  {
   "cell_type": "markdown",
   "id": "b53829b8-5e9e-449d-991b-0dcd07117bc4",
   "metadata": {},
   "source": [
    "# Question 1\n",
    "###  Consider the following Python module:\n",
    "        a. What value is displayed when the last expression (a) is evaluated? Explain your Banswer by indicating what happens in every executed statement?"
   ]
  },
  {
   "cell_type": "code",
   "execution_count": 2,
   "id": "a106e423-4a14-4458-a4aa-2f048e8abf0a",
   "metadata": {},
   "outputs": [
    {
     "data": {
      "text/plain": [
       "6"
      ]
     },
     "execution_count": 2,
     "metadata": {},
     "output_type": "execute_result"
    }
   ],
   "source": [
    "a = 0\n",
    "def b():\n",
    "   global a\n",
    "   a = c(a)\n",
    "def c(a):\n",
    "   return a + 2\n",
    "b()\n",
    "b()\n",
    "b()\n",
    "a"
   ]
  },
  {
   "cell_type": "markdown",
   "id": "e54e6d95-b7da-41f8-8991-3ab7fd0d4e81",
   "metadata": {},
   "source": [
    "##### The value of a when executing the code is 6.\n",
    "###     Explanation:\n",
    "##### Initialize a to 0.\n",
    "##### The first execution of b() declares a as global and a= c(a) with c(0)=2, now a = 2.\n",
    "##### The second execution of b() declares a as global and a= c(a) with c(2)=4, now a = 4.\n",
    "##### The third execution of b() declares a as global and a= c(a) with c(4)=6, now a = 6."
   ]
  },
  {
   "cell_type": "markdown",
   "id": "9f184f3a-0359-453e-8746-cb9c471ccc73",
   "metadata": {},
   "source": [
    "# Question 2\n",
    "### Takes the name of a file as input and returnsthe lenght of the file."
   ]
  },
  {
   "cell_type": "code",
   "execution_count": 7,
   "id": "7d3df245-019a-4af7-8bb0-769ffe185b69",
   "metadata": {},
   "outputs": [
    {
     "name": "stdout",
     "output_type": "stream",
     "text": [
      "file example.txt not found.\n"
     ]
    },
    {
     "data": {
      "text/plain": [
       "123"
      ]
     },
     "execution_count": 7,
     "metadata": {},
     "output_type": "execute_result"
    }
   ],
   "source": [
    "def fileLength(file):                         # The 'fileLength' function is defined.\n",
    "    try:                                      # The try block is started to manage the exceptions.\n",
    "        lecfile = open(file, 'r')\n",
    "        longitud = lecfile.read()\n",
    "        return len(longitud)                  # Returns the length of the file.\n",
    "    except Exception:                         # Takes the exceptions from try.\n",
    "        print(f\"file {file} not found.\")      # Displays the error message.\n",
    "\n",
    "fileLength('example.txt')\n",
    "fileLength('FileLength.txt')\n"
   ]
  },
  {
   "cell_type": "markdown",
   "id": "992a46b4-d479-4727-ab0b-491833f67860",
   "metadata": {},
   "source": [
    "# Question 3\n",
    "### Write a class named Marsupial that can be used as shown be"
   ]
  },
  {
   "cell_type": "code",
   "execution_count": 10,
   "id": "97006926-a2de-4ca7-b61c-02a91e2e1ebd",
   "metadata": {},
   "outputs": [
    {
     "name": "stdout",
     "output_type": "stream",
     "text": [
      "['doll', 'firetruck', 'kitten']\n",
      "I am a Kangaroo located at coordinates (0,0)\n",
      "['doll', 'firetruck', 'kitten']\n",
      "I am a Kangaroo located at coordinates (3,0)\n"
     ]
    }
   ],
   "source": [
    "class Marsupial():\n",
    "    def __init__(ins):                         \n",
    "        ins.pouch = []                        # An empty list is started to put items in pouch.\n",
    "    def put_in_pouch(ins, obj):               # Method is created to put items in pounch.\n",
    "        ins.pouch.append(obj)                \n",
    "    def pouch_contents(ins):                  # Method is created to obtain the contents of pouch.\n",
    "        return ins.pouch                      \n",
    "\n",
    "class Kangaroo(Marsupial):                    # Subclass Kangoroo of class Marsupial is created.\n",
    "    def __init__(ins, x, y):                  \n",
    "        super().__init__()                    # The __init__ of class Marsupial is called.\n",
    "        ins.x = x                            \n",
    "        ins.y = y                            \n",
    "    def jump(ins, jumpx, jumpy):              # Method is created to change the position of Kangaroo.\n",
    "        ins.x += jumpx                        \n",
    "        ins.y += jumpy                        \n",
    "    def __str__(ins):                         # The method is created to include information from Kangaroo.\n",
    "        return f\"I am a Kangaroo located at coordinates ({ins.x},{ins.y})\"                     \n",
    "\n",
    "\n",
    "m = Marsupial()                               # The Marsupial instance is created.\n",
    "m.put_in_pouch('doll')                        # Item added to pouch.\n",
    "m.put_in_pouch('firetruck')                   \n",
    "m.put_in_pouch('kitten')                      \n",
    "print(m.pouch_contents())                     # The pouch content is shown.\n",
    "\n",
    "k = Kangaroo(0, 0)                            # The Kangaroo instance is created.\n",
    "print(k)                                      # Initial Kangaroo position shown.\n",
    "k.put_in_pouch('doll')                        # Item added to pouch.\n",
    "k.put_in_pouch('firetruck')                    \n",
    "k.put_in_pouch('kitten')                      \n",
    "print(k.pouch_contents())                     # The pouch content is shown.\n",
    "k.jump(1, 0)                                  # Kangaroo location is moved.\n",
    "k.jump(1, 0)                                  \n",
    "k.jump(1, 0)                                  \n",
    "print(k)                                      # The new Kangaroo location is shown.\n",
    "\n"
   ]
  },
  {
   "cell_type": "markdown",
   "id": "cd526919-3b74-44f3-9e3b-501d7d1a46bb",
   "metadata": {},
   "source": [
    "# Question 4\n",
    "### Write function collatz() that takes a positive integer x as input and prints the collatz sequence starting at x."
   ]
  },
  {
   "cell_type": "code",
   "execution_count": 17,
   "id": "be4118cf-cdbb-49a0-be6b-0e23cef3af26",
   "metadata": {},
   "outputs": [
    {
     "name": "stdout",
     "output_type": "stream",
     "text": [
      "1\n",
      "10\n",
      "5\n",
      "16\n",
      "8\n",
      "4\n",
      "2\n",
      "1\n"
     ]
    }
   ],
   "source": [
    "def collatz(x):                               # Function Collatz is defined.\n",
    "    print(x)\n",
    "    if x == 1:\n",
    "        return                                # If x is equal to 1 the function ends.\n",
    "    if x % 2 == 0:\n",
    "        collatz(x // 2)                       # If x is even it recursively calls the function C by dividing x by 2.\n",
    "    else:\n",
    "        collatz(3 * x + 1)                    # If x is odd it recursively calls the function C with x equal to 3 * x + 1.\n",
    "\n",
    "collatz(1)\n",
    "collatz(10)\n"
   ]
  },
  {
   "cell_type": "markdown",
   "id": "6707620a-92c1-4ebf-add8-9ddf6148c62f",
   "metadata": {},
   "source": [
    "# Question 5\n",
    "### Write a recursive method binary() that takes a non-negative integer n"
   ]
  },
  {
   "cell_type": "code",
   "execution_count": 20,
   "id": "db398261-d5f2-4e95-bc75-b8b3aaf0de58",
   "metadata": {},
   "outputs": [
    {
     "name": "stdout",
     "output_type": "stream",
     "text": [
      "1100100"
     ]
    }
   ],
   "source": [
    "def binary(n):                                # Function Binary is defined.\n",
    "    if n <= 1:\n",
    "        print(n, end=\"\")                      # If n is equal or less than 1, it shows n.\n",
    "    else:\n",
    "        binary(n // 2)                        # If n is greater than 1 it recursively calls function Binary by dividing n by 2.\n",
    "        print(n % 2, end=\"\")                  # Displays the residual of dividing n by 2.\n",
    "\n",
    "binary(100)"
   ]
  },
  {
   "cell_type": "markdown",
   "id": "1124e37e-28cd-43fa-84e3-8a69af8efbbd",
   "metadata": {},
   "source": [
    "# Question 6\n",
    "### Implement a class named HeadingParser that can be used to parse an HTML document.\n",
    "       \n",
    " ### StackOverflow link for this section: https://stackoverflow.com/questions/61875486/python-handling-htmlparser-data-with-handle-starttag-and-handle-endtag"
   ]
  },
  {
   "cell_type": "code",
   "execution_count": 23,
   "id": "7321936a-09a2-43ec-b430-ee6d6356d8eb",
   "metadata": {},
   "outputs": [
    {
     "name": "stdout",
     "output_type": "stream",
     "text": [
      "W3C Mission\n",
      " Principles\n"
     ]
    }
   ],
   "source": [
    "\n",
    "from html.parser import HTMLParser                                # The HTMLParser class is called from the library module html.parser.\n",
    "\n",
    "class HeadingParser(HTMLParser):                                  # The HeadingParser class is created.\n",
    "    def __init__(self):\n",
    "        super().__init__()                                        # The HTMlParser class is initialized.\n",
    "        self.hl = None                                            # It is initialized as None.\n",
    "    def handle_starttag(self, tag, attrs): \n",
    "        if tag[0] == 'h' and len(tag) == 2:                       # It is checked if it is a header h1, h2....\n",
    "            self.hl = int(tag[1])                                 # The header level is registered.\n",
    "    def handle_data(self, data):\n",
    "        if self.hl is not None:                                   # It is checked if there is a current header.\n",
    "            indentation = ' ' * (self.hl - 1)                     # The size of the indentation is calculated.\n",
    "            print(f\"{indentation}{data}\")                         # Prints the header content with its indentation.\n",
    "            self.hl = None                                        # It restarts after printing.\n",
    "infile = open('w3c.html')                                         # Opens the file.\n",
    "content = infile.read()                                           # Reads the content. \n",
    "infile.close()                                                    # Closes the file.\n",
    "hp = HeadingParser()                                              # Creates an instance of HeadingParser.\n",
    "hp.feed(content)     "
   ]
  },
  {
   "cell_type": "markdown",
   "id": "cc738cec-8a66-4bf4-b320-4b16498d98dd",
   "metadata": {},
   "source": [
    "# Question 7\n",
    "### Implement recursive function webdir() that takes as input: a URL.\n",
    "       \n",
    " ### StackOverflow link for this section: https://stackoverflow.com/questions/67798296/requests-geturl-not-returning-for-this-specific-url\n",
    "\n",
    "\n"
   ]
  },
  {
   "cell_type": "code",
   "execution_count": 30,
   "id": "f79ad0e6-85b2-4b19-b9da-f204b39282a8",
   "metadata": {},
   "outputs": [
    {
     "name": "stdout",
     "output_type": "stream",
     "text": [
      "https://www.testiq.gratis/\n",
      "    https://www.testiq.gratis/cookies\n",
      "    https://www.testiq.gratis/contact\n",
      "    https://www.testiq.gratis/resource/what_is_iq\n",
      "    https://www.testiq.gratis/terms\n",
      "    https://www.testiq.gratis\n",
      "    https://www.testiq.gratis/resource/is_iq_important\n",
      "    https://www.testiq.gratis/resource/iq_measure_average_and_high_iq\n",
      "    https://www.testiq.gratis/q/1\n",
      "    https://www.testiq.gratis/resource/improve_iq_brain_function\n",
      "    https://www.testiq.gratis/learn_about_iq\n"
     ]
    }
   ],
   "source": [
    "import requests                                                         # Import requests library to make HTTP requests.            \n",
    "from bs4 import BeautifulSoup                                           # Import BeautifulSoup from bs4 library to parse HTML.\n",
    "\n",
    "def webdir(url, depth, indent):                                         # The Webdir function is defined.\n",
    "    if depth < 0:\n",
    "        return                                                          # If the depth is less than 0 it terminates the function.\n",
    "    print(' ' * indent + url)                                           # The URL is displayed with its identation.\n",
    "    rd = requests.get(url)                                              # Get HTML information from the URL.\n",
    "    sp = BeautifulSoup(rd.text, 'html.parser')                          # It processes HTML content obtained through requests.get(url).\n",
    "    lk = set()                                                            # Initializes a set to store links.\n",
    "    for a in sp.find_all('a', href=True):                               # Searches for <a> tags.\n",
    "        lk.add(a['href'])                                               # Adds the URLs of the <a> tags to the initialized set.\n",
    "    for link in lk:\n",
    "        webdir(link, depth - 1, indent + 4)                             # It processes each link and organizes.\n",
    "        \n",
    "webdir('https://www.testiq.gratis/', 1, 0)"
   ]
  },
  {
   "cell_type": "markdown",
   "id": "db486303-a19c-4287-90b6-6d186e403175",
   "metadata": {},
   "source": [
    "# Question 8\n",
    "### Write SQL queries on the below database table that return:\n",
    "       \n",
    " ### StackOverflow link for this section: https://stackoverflow.com/questions/30959866/string-formatting-a-sql-query-in-sqlite3"
   ]
  },
  {
   "cell_type": "code",
   "execution_count": 37,
   "id": "1fb8d096-83b9-4142-b527-79ff3266ab16",
   "metadata": {},
   "outputs": [
    {
     "name": "stdout",
     "output_type": "stream",
     "text": [
      "a) [(24.8,), (28.4,), (27.9,), (27.6,), (4.2,), (8.3,), (15.7,), (10.4,), (13.6,), (20.7,), (27.7,), (22.2,)]\n",
      "b) [('Mumbai',), ('London',), ('Cairo',)]\n",
      "c) [('Mumbai', 'India', 'Winter', 24.8, 5.9), ('Mumbai', 'India', 'Spring', 28.4, 16.2), ('Mumbai', 'India', 'Summer', 27.9, 1549.4), ('Mumbai', 'India', 'Fall', 27.6, 346.0)]\n",
      "d) [('Mumbai', 'India', 'Fall', 27.6, 346.0), ('London', 'United Kingdom', 'Fall', 10.4, 218.5), ('Cairo', 'Egypt', 'Fall', 22.2, 4.5)]\n",
      "e) [('London', 'United Kingdom', 'Fall'), ('London', 'United Kingdom', 'Winter'), ('Mumbai', 'India', 'Fall')]\n",
      "f) [('Cairo', 'Egypt'), ('Mumbai', 'India')]\n",
      "g) [(27.6,)]\n",
      "h) [('Fall', 569.0), ('Spring', 192.29999999999998), ('Summer', 1706.5), ('Winter', 230.1)]\n"
     ]
    }
   ],
   "source": [
    "import sqlite3\n",
    "data = []\n",
    "with open('DataPS2.txt', 'r') as file:                                    # Import data from DataPS2.txt.\n",
    "    for linea in file:\n",
    "        data.append(linea.strip().split(','))                                # Separate by commas.\n",
    "conn = sqlite3.connect(':memory:')                                          # Database is created.\n",
    "db = conn.cursor()\n",
    "db.execute('''CREATE TABLE DB (City TEXT, Country TEXT, Season TEXT, Temperature REAL, Rainfall REAL)''')           # Table is created.\n",
    "db.executemany('INSERT INTO DB VALUES (?, ?, ?, ?, ?)', data)          # Insert data into the table.\n",
    "\n",
    "db.execute('SELECT Temperature FROM DB')                               # a) All the temperature data.\n",
    "a = db.fetchall()\n",
    "db.execute('SELECT DISTINCT City FROM DB')                             # b) All the cities, but without repetition.\n",
    "b = db.fetchall()\n",
    "db.execute('SELECT * FROM DB WHERE Country = \"India\"')                # c) All the records for India.\n",
    "c = db.fetchall()\n",
    "db.execute('SELECT * FROM DB WHERE Season = \"Fall\"')                  # d) All the Fall records.\n",
    "d = db.fetchall()\n",
    "db.execute('SELECT City, Country, Season FROM DB GROUP BY City, Country, Season HAVING AVG(Rainfall) BETWEEN 200 AND 400')  # e) The city, country, and season average rainfall is between 200 and 400 millimeters\n",
    "e = db.fetchall()\n",
    "db.execute('SELECT City, Country FROM DB WHERE Season = \"Fall\" GROUP BY City, Country HAVING AVG(Temperature) > 20 ORDER BY AVG(Temperature)')  # f) City and Country average Fall temperature above 20 in increasing temperature order.\n",
    "f = db.fetchall()\n",
    "db.execute('SELECT SUM(Rainfall) FROM DB WHERE City = \"Cairo\"')       # g) The total annual rainfall for Cairo.\n",
    "g = db.fetchall()\n",
    "db.execute('SELECT Season, SUM(Rainfall) FROM DB GROUP BY Season')    # h) The total rainfall for each season.\n",
    "h = db.fetchall()\n",
    "\n",
    "print(\"a)\", a)\n",
    "print(\"b)\", b)\n",
    "print(\"c)\", c)\n",
    "print(\"d)\", d)\n",
    "print(\"e)\", e)\n",
    "print(\"f)\", f)\n",
    "print(\"g)\", g)\n",
    "print(\"h)\", h)"
   ]
  },
  {
   "cell_type": "markdown",
   "id": "c438fc58-8d79-47bf-a5f7-3676b9ce87e4",
   "metadata": {},
   "source": [
    "# Question 9\n",
    "### Write list comprehension expressions that use list words and generate lists."
   ]
  },
  {
   "cell_type": "code",
   "execution_count": 40,
   "id": "c0177034-5c4b-40bf-8525-552f4d5028e1",
   "metadata": {},
   "outputs": [
    {
     "name": "stdout",
     "output_type": "stream",
     "text": [
      "a) ['THE', 'QUICK', 'BROWN', 'FOX', 'JUMPS', 'OVER', 'THE', 'LAZY', 'DOG']\n",
      "b) ['the', 'quick', 'brown', 'fox', 'jumps', 'over', 'the', 'lazy', 'dog']\n",
      "c) [3, 5, 5, 3, 5, 4, 3, 4, 3]\n",
      "d) [['THE', 'the', 3], ['QUICK', 'quick', 5], ['BROWN', 'brown', 5], ['FOX', 'fox', 3], ['JUMPS', 'jumps', 5], ['OVER', 'over', 4], ['THE', 'the', 3], ['LAZY', 'lazy', 4], ['DOG', 'dog', 3]]\n",
      "e) ['quick', 'brown', 'jumps', 'over', 'lazy']\n"
     ]
    }
   ],
   "source": [
    "\n",
    "words = ['The', 'quick', 'brown', 'fox', 'jumps', 'over', 'the', 'lazy', 'dog']  # List Words is created.\n",
    "\n",
    "a = [item.upper() for item in words]                                             # List comprehension expressions that shows all in uppercase. \n",
    "b = [item.lower() for item in words]                                             # List comprehension expressions that shows all in lower case. \n",
    "c = [len(item) for item in words]                                                # List comprehension expressions showing item length. \n",
    "d = [[item.upper(), item.lower(), len(item)] for item in words]                  # List comprehension expressions that shows item lengths in uppercase, lowercase and item length. \n",
    "e = [item for item in words if len(item) >= 4]                                   # List comprehension expressions that show item lengths of 4 or more characters long.\n",
    "\n",
    "print(\"a)\", a)\n",
    "print(\"b)\", b)\n",
    "print(\"c)\", c)\n",
    "print(\"d)\", d)\n",
    "print(\"e)\", e)\n"
   ]
  },
  {
   "cell_type": "code",
   "execution_count": null,
   "id": "e801a9d5-fc4d-479d-b6e1-6ae94f577469",
   "metadata": {},
   "outputs": [],
   "source": []
  }
 ],
 "metadata": {
  "kernelspec": {
   "display_name": "Python 3 (ipykernel)",
   "language": "python",
   "name": "python3"
  },
  "language_info": {
   "codemirror_mode": {
    "name": "ipython",
    "version": 3
   },
   "file_extension": ".py",
   "mimetype": "text/x-python",
   "name": "python",
   "nbconvert_exporter": "python",
   "pygments_lexer": "ipython3",
   "version": "3.12.4"
  }
 },
 "nbformat": 4,
 "nbformat_minor": 5
}
